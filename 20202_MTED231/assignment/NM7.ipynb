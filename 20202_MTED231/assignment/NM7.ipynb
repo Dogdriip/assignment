{
 "metadata": {
  "language_info": {
   "codemirror_mode": {
    "name": "ipython",
    "version": 3
   },
   "file_extension": ".py",
   "mimetype": "text/x-python",
   "name": "python",
   "nbconvert_exporter": "python",
   "pygments_lexer": "ipython3",
   "version": "3.8.5-final"
  },
  "orig_nbformat": 2,
  "kernelspec": {
   "name": "python_defaultSpec_1601879538293",
   "display_name": "Python 3.8.5 64-bit ('base': conda)"
  }
 },
 "nbformat": 4,
 "nbformat_minor": 2,
 "cells": [
  {
   "source": [
    "# Numerical Analysis Assignment #7\n",
    "\n",
    "2018112749 전현승\n"
   ],
   "cell_type": "markdown",
   "metadata": {}
  },
  {
   "cell_type": "code",
   "execution_count": 1,
   "metadata": {},
   "outputs": [],
   "source": [
    "import numpy as np"
   ]
  },
  {
   "source": [
    "## Q1. Gauss elimination with partial pivoting"
   ],
   "cell_type": "markdown",
   "metadata": {}
  },
  {
   "source": [
    "## Q1. (a)"
   ],
   "cell_type": "markdown",
   "metadata": {}
  },
  {
   "cell_type": "code",
   "execution_count": 2,
   "metadata": {
    "tags": []
   },
   "outputs": [
    {
     "output_type": "stream",
     "name": "stdout",
     "text": "(3, 3)\n(1, 3)\n"
    }
   ],
   "source": [
    "A = np.array([[6, 4, 13], [2, 1, -1], [-3, 6, -1]]).astype(\"float64\")\n",
    "b = np.array([[-23, 4, 8]]).astype(\"float64\")\n",
    "print(A.shape)\n",
    "print(b.shape)"
   ]
  },
  {
   "cell_type": "code",
   "execution_count": 3,
   "metadata": {},
   "outputs": [
    {
     "output_type": "execute_result",
     "data": {
      "text/plain": "array([[  6.,   4.,  13., -23.],\n       [  2.,   1.,  -1.,   4.],\n       [ -3.,   6.,  -1.,   8.]])"
     },
     "metadata": {},
     "execution_count": 3
    }
   ],
   "source": [
    "M = np.append(A, np.reshape(b, (-1, 1)), axis=1)\n",
    "M"
   ]
  },
  {
   "cell_type": "code",
   "execution_count": 4,
   "metadata": {},
   "outputs": [],
   "source": [
    "R, C = M.shape"
   ]
  },
  {
   "cell_type": "code",
   "execution_count": 5,
   "metadata": {
    "tags": []
   },
   "outputs": [
    {
     "output_type": "stream",
     "name": "stdout",
     "text": "[[  6.           4.          13.         -23.        ]\n [  0.          -0.33333333  -5.33333333  11.66666667]\n [ -3.           6.          -1.           8.        ]]\n\n[[  6.           4.          13.         -23.        ]\n [  0.          -0.33333333  -5.33333333  11.66666667]\n [  0.           8.           5.5         -3.5       ]]\n\n[[  6.           4.          13.         -23.        ]\n [  0.           8.           5.5         -3.5       ]\n [  0.           0.          -5.10416667  11.52083333]]\n\n"
    }
   ],
   "source": [
    "for row in range(R):\n",
    "    ## partial pivoting: sort rows [row:R] by row-th column\n",
    "    # split M to upper/lower (horizontal)\n",
    "    upper = M[0:row]\n",
    "    lower = M[row:]\n",
    "\n",
    "    # sort lower\n",
    "    col = lower[:, row]\n",
    "    idx = np.argsort(-col)  # descending\n",
    "    lower = lower[idx]\n",
    "\n",
    "    # concatenate\n",
    "    M = np.append(upper, lower, axis=0)\n",
    "\n",
    "    for row_down in range(row + 1, R):\n",
    "        M[row_down] -= M[row] * (M[row_down][row] / M[row][row])\n",
    "        print(M)\n",
    "        print()"
   ]
  },
  {
   "cell_type": "code",
   "execution_count": 6,
   "metadata": {
    "tags": []
   },
   "outputs": [
    {
     "output_type": "stream",
     "name": "stdout",
     "text": "[0, 0, -2.257142857142857]\n"
    }
   ],
   "source": [
    "x = [0 for _ in range(R)]\n",
    "x[R - 1] = M[R - 1][C - 1] / M[R - 1][R - 1]\n",
    "print(x)"
   ]
  },
  {
   "cell_type": "code",
   "execution_count": 7,
   "metadata": {
    "tags": []
   },
   "outputs": [
    {
     "output_type": "stream",
     "name": "stdout",
     "text": "[0.31428571428571433, 1.1142857142857143, -2.257142857142857]\n"
    }
   ],
   "source": [
    "for i in range(R - 2, -1, -1):\n",
    "    s = 0\n",
    "    for j in range(i + 1, R):\n",
    "        s += x[j] * M[i][j]\n",
    "    x[i] = (M[i][C - 1] - s) / M[i][i]\n",
    "\n",
    "print(x)"
   ]
  },
  {
   "cell_type": "code",
   "execution_count": 8,
   "metadata": {
    "tags": []
   },
   "outputs": [
    {
     "output_type": "stream",
     "name": "stdout",
     "text": "x_0: 0.31428571428571433\nx_1: 1.1142857142857143\nx_2: -2.257142857142857\n"
    }
   ],
   "source": [
    "for i in range(len(x)):\n",
    "    print(f\"x_{i}: {x[i]}\")"
   ]
  },
  {
   "source": [
    "## Q1. (b)"
   ],
   "cell_type": "markdown",
   "metadata": {}
  },
  {
   "cell_type": "code",
   "execution_count": 9,
   "metadata": {
    "tags": []
   },
   "outputs": [
    {
     "output_type": "stream",
     "name": "stdout",
     "text": "(4, 4)\n(1, 4)\n"
    }
   ],
   "source": [
    "A = np.array([[-2, -3, 1, 2], [7, 6, 0, -3], [0, 3, 1, 5], [2, -2, 6, 6]]).astype(\"float64\")\n",
    "b = np.array([[2, -4, 1, 8]]).astype(\"float64\")\n",
    "print(A.shape)\n",
    "print(b.shape)"
   ]
  },
  {
   "cell_type": "code",
   "execution_count": 10,
   "metadata": {
    "tags": []
   },
   "outputs": [
    {
     "output_type": "stream",
     "name": "stdout",
     "text": "[[ 7.          6.          0.         -3.         -4.        ]\n [ 0.         -3.71428571  6.          6.85714286  9.14285714]\n [ 0.          3.          1.          5.          1.        ]\n [-2.         -3.          1.          2.          2.        ]]\n\n[[ 7.          6.          0.         -3.         -4.        ]\n [ 0.         -3.71428571  6.          6.85714286  9.14285714]\n [ 0.          3.          1.          5.          1.        ]\n [-2.         -3.          1.          2.          2.        ]]\n\n[[ 7.          6.          0.         -3.         -4.        ]\n [ 0.         -3.71428571  6.          6.85714286  9.14285714]\n [ 0.          3.          1.          5.          1.        ]\n [ 0.         -1.28571429  1.          1.14285714  0.85714286]]\n\n[[ 7.          6.          0.         -3.         -4.        ]\n [ 0.          3.          1.          5.          1.        ]\n [ 0.          0.          1.42857143  3.28571429  1.28571429]\n [ 0.         -3.71428571  6.          6.85714286  9.14285714]]\n\n[[ 7.          6.          0.         -3.         -4.        ]\n [ 0.          3.          1.          5.          1.        ]\n [ 0.          0.          1.42857143  3.28571429  1.28571429]\n [ 0.          0.          7.23809524 13.04761905 10.38095238]]\n\n[[ 7.          6.          0.         -3.         -4.        ]\n [ 0.          3.          1.          5.          1.        ]\n [ 0.          0.          7.23809524 13.04761905 10.38095238]\n [ 0.          0.          0.          0.71052632 -0.76315789]]\n\n"
    }
   ],
   "source": [
    "M = np.append(A, np.reshape(b, (-1, 1)), axis=1)\n",
    "R, C = M.shape\n",
    "\n",
    "for row in range(R):\n",
    "    ## partial pivoting: sort rows [row:R] by row-th column\n",
    "    # split M to upper/lower (horizontal)\n",
    "    upper = M[0:row]\n",
    "    lower = M[row:]\n",
    "\n",
    "    # sort lower\n",
    "    col = lower[:, row]\n",
    "    idx = np.argsort(-col)  # descending\n",
    "    lower = lower[idx]\n",
    "\n",
    "    # concatenate\n",
    "    M = np.append(upper, lower, axis=0)\n",
    "\n",
    "    for row_down in range(row + 1, R):\n",
    "        M[row_down] -= M[row] * (M[row_down][row] / M[row][row])\n",
    "        print(M)\n",
    "        print()"
   ]
  },
  {
   "cell_type": "code",
   "execution_count": 11,
   "metadata": {
    "tags": []
   },
   "outputs": [
    {
     "output_type": "stream",
     "name": "stdout",
     "text": "[-1.888888888888888, 0.9999999999999994, 3.3703703703703685, -1.0740740740740733]\n"
    }
   ],
   "source": [
    "x = [0 for _ in range(R)]\n",
    "x[R - 1] = M[R - 1][C - 1] / M[R - 1][R - 1]\n",
    "\n",
    "for i in range(R - 2, -1, -1):\n",
    "    s = 0\n",
    "    for j in range(i + 1, R):\n",
    "        s += x[j] * M[i][j]\n",
    "    x[i] = (M[i][C - 1] - s) / M[i][i]\n",
    "\n",
    "print(x)"
   ]
  },
  {
   "cell_type": "code",
   "execution_count": 12,
   "metadata": {
    "tags": []
   },
   "outputs": [
    {
     "output_type": "stream",
     "name": "stdout",
     "text": "x_0: -1.888888888888888\nx_1: 0.9999999999999994\nx_2: 3.3703703703703685\nx_3: -1.0740740740740733\n"
    }
   ],
   "source": [
    "for i in range(len(x)):\n",
    "    print(f\"x_{i}: {x[i]}\")"
   ]
  },
  {
   "source": [
    "## Q2. LU factorization"
   ],
   "cell_type": "markdown",
   "metadata": {}
  },
  {
   "cell_type": "code",
   "execution_count": 13,
   "metadata": {},
   "outputs": [],
   "source": [
    "from scipy import linalg"
   ]
  },
  {
   "cell_type": "code",
   "execution_count": 14,
   "metadata": {
    "tags": []
   },
   "outputs": [
    {
     "output_type": "stream",
     "name": "stdout",
     "text": "(3, 3)\n(1, 3)\n"
    }
   ],
   "source": [
    "A = np.array([[2, -1, 2], [2, -3, 3], [6, -1, 8]]).astype(\"float64\")\n",
    "b = np.array([[-2, -5, 0]]).astype(\"float64\")\n",
    "print(A.shape)\n",
    "print(b.shape)"
   ]
  },
  {
   "cell_type": "code",
   "execution_count": 15,
   "metadata": {
    "tags": []
   },
   "outputs": [
    {
     "output_type": "execute_result",
     "data": {
      "text/plain": "(3, 1)"
     },
     "metadata": {},
     "execution_count": 15
    }
   ],
   "source": [
    "b = np.reshape(b, (-1, 1))\n",
    "b.shape\n"
   ]
  },
  {
   "cell_type": "code",
   "execution_count": 16,
   "metadata": {
    "tags": []
   },
   "outputs": [
    {
     "output_type": "stream",
     "name": "stdout",
     "text": "[[0. 0. 1.]\n [0. 1. 0.]\n [1. 0. 0.]]\n[[1.         0.         0.        ]\n [0.33333333 1.         0.        ]\n [0.33333333 0.25       1.        ]]\n[[ 6.         -1.          8.        ]\n [ 0.         -2.66666667  0.33333333]\n [ 0.          0.         -0.75      ]]\n"
    }
   ],
   "source": [
    "P, L, U = linalg.lu(A)\n",
    "print(P)\n",
    "print(L)\n",
    "print(U)"
   ]
  },
  {
   "cell_type": "code",
   "execution_count": 17,
   "metadata": {
    "tags": []
   },
   "outputs": [
    {
     "output_type": "execute_result",
     "data": {
      "text/plain": "array([ 0.  , -5.  , -0.75])"
     },
     "metadata": {},
     "execution_count": 17
    }
   ],
   "source": [
    "y = np.linalg.solve(L, np.matmul(P.T, b))\n",
    "y = np.reshape(y, (3,))\n",
    "y"
   ]
  },
  {
   "cell_type": "code",
   "execution_count": 18,
   "metadata": {},
   "outputs": [
    {
     "output_type": "execute_result",
     "data": {
      "text/plain": "array([-1.,  2.,  1.])"
     },
     "metadata": {},
     "execution_count": 18
    }
   ],
   "source": [
    "x = np.linalg.solve(U, y)\n",
    "x"
   ]
  },
  {
   "cell_type": "code",
   "execution_count": 19,
   "metadata": {
    "tags": []
   },
   "outputs": [
    {
     "output_type": "stream",
     "name": "stdout",
     "text": "x_0: -0.9999999999999999\nx_1: 2.0\nx_2: 0.9999999999999999\n"
    }
   ],
   "source": [
    "for i in range(len(x)):\n",
    "    print(f\"x_{i}: {x[i]}\")"
   ]
  },
  {
   "source": [
    "## Q3. Cholesky factorization"
   ],
   "cell_type": "markdown",
   "metadata": {}
  },
  {
   "source": [
    "import math"
   ],
   "cell_type": "code",
   "metadata": {},
   "execution_count": 20,
   "outputs": []
  },
  {
   "cell_type": "code",
   "execution_count": 21,
   "metadata": {},
   "outputs": [
    {
     "output_type": "execute_result",
     "data": {
      "text/plain": "(3, 3)"
     },
     "metadata": {},
     "execution_count": 21
    }
   ],
   "source": [
    "A = np.array([[16, 4, 4], [4, 26, 6], [4, 6, 11]]).astype(\"float64\")\n",
    "A.shape"
   ]
  },
  {
   "cell_type": "code",
   "execution_count": 22,
   "metadata": {},
   "outputs": [],
   "source": [
    "R, C = A.shape\n",
    "U = np.zeros(A.shape, dtype=\"float64\")"
   ]
  },
  {
   "cell_type": "code",
   "execution_count": 23,
   "metadata": {},
   "outputs": [],
   "source": [
    "for i in range(R):\n",
    "    tmp = 0\n",
    "    for k in range(0, i):\n",
    "        tmp += U[k][i]**2\n",
    "    U[i][i] = math.sqrt(A[i][i] - tmp)\n",
    "    for j in range(i + 1, R):\n",
    "        tmp = 0\n",
    "        for k in range(0, i):\n",
    "            tmp += U[k][i] * U[k][j]\n",
    "        U[i][j] = (A[i][j] - tmp) / U[i][i]\n"
   ]
  },
  {
   "cell_type": "code",
   "execution_count": 24,
   "metadata": {
    "tags": []
   },
   "outputs": [
    {
     "output_type": "stream",
     "name": "stdout",
     "text": "[[4. 1. 1.]\n [0. 5. 1.]\n [0. 0. 3.]]\n[[4. 0. 0.]\n [1. 5. 0.]\n [1. 1. 3.]]\n"
    }
   ],
   "source": [
    "print(U)\n",
    "print(U.T)"
   ]
  },
  {
   "cell_type": "code",
   "execution_count": 25,
   "metadata": {
    "tags": []
   },
   "outputs": [
    {
     "output_type": "stream",
     "name": "stdout",
     "text": "[[16.  4.  4.]\n [ 4. 26.  6.]\n [ 4.  6. 11.]]\n[[16.  4.  4.]\n [ 4. 26.  6.]\n [ 4.  6. 11.]]\n"
    }
   ],
   "source": [
    "print(A)\n",
    "print(np.matmul(U.T, U))"
   ]
  }
 ]
}