{
  "nbformat": 4,
  "nbformat_minor": 0,
  "metadata": {
    "colab": {
      "name": "2018112749_NM6.ipynb",
      "provenance": [],
      "collapsed_sections": []
    },
    "kernelspec": {
      "name": "python3",
      "display_name": "Python 3"
    }
  },
  "cells": [
    {
      "cell_type": "markdown",
      "metadata": {
        "id": "MsXyXivlQf3y"
      },
      "source": [
        "# Numerical Analysis Assignment #6\n",
        "\n",
        "2018112749 전현승\n"
      ]
    },
    {
      "cell_type": "code",
      "metadata": {
        "id": "Qoyph_jkPqXl"
      },
      "source": [
        "import numpy as np"
      ],
      "execution_count": 1,
      "outputs": []
    },
    {
      "cell_type": "code",
      "metadata": {
        "id": "SpchQIyvQfYN",
        "outputId": "90b6192a-f2b4-4602-d4c0-b40e3b778408",
        "colab": {
          "base_uri": "https://localhost:8080/",
          "height": 55
        }
      },
      "source": [
        "A = np.array([[3, -0.1, -0.2], [0.1, 7, -0.3], [0.3, -0.2, 10]])\n",
        "b = np.array([[7.85, -19.3, 71.4]])\n",
        "print(A.shape)\n",
        "print(b.shape)"
      ],
      "execution_count": 2,
      "outputs": [
        {
          "output_type": "stream",
          "text": [
            "(3, 3)\n",
            "(1, 3)\n"
          ],
          "name": "stdout"
        }
      ]
    },
    {
      "cell_type": "code",
      "metadata": {
        "id": "ztGOkfkTQzdN",
        "outputId": "097b6737-e267-4ea7-f9dd-3430e5b01430",
        "colab": {
          "base_uri": "https://localhost:8080/",
          "height": 74
        }
      },
      "source": [
        "M = np.append(A, np.reshape(b, (-1, 1)), axis=1)\n",
        "M"
      ],
      "execution_count": 3,
      "outputs": [
        {
          "output_type": "execute_result",
          "data": {
            "text/plain": [
              "array([[  3.  ,  -0.1 ,  -0.2 ,   7.85],\n",
              "       [  0.1 ,   7.  ,  -0.3 , -19.3 ],\n",
              "       [  0.3 ,  -0.2 ,  10.  ,  71.4 ]])"
            ]
          },
          "metadata": {
            "tags": []
          },
          "execution_count": 3
        }
      ]
    },
    {
      "cell_type": "code",
      "metadata": {
        "id": "WDyug4igUK4S"
      },
      "source": [
        "R, C = M.shape"
      ],
      "execution_count": 4,
      "outputs": []
    },
    {
      "cell_type": "code",
      "metadata": {
        "id": "0ZwjV_i9RIbm",
        "outputId": "2da1a017-bb6e-409e-dc2d-d3b1d0562b24",
        "colab": {
          "base_uri": "https://localhost:8080/",
          "height": 245
        }
      },
      "source": [
        "for row in range(R):\n",
        "  for row_down in range(row + 1, R):\n",
        "    M[row_down] -= M[row] * (M[row_down][row] / M[row][row])\n",
        "    print(M)\n",
        "    print()"
      ],
      "execution_count": 5,
      "outputs": [
        {
          "output_type": "stream",
          "text": [
            "[[  3.          -0.1         -0.2          7.85      ]\n",
            " [  0.           7.00333333  -0.29333333 -19.56166667]\n",
            " [  0.3         -0.2         10.          71.4       ]]\n",
            "\n",
            "[[  3.          -0.1         -0.2          7.85      ]\n",
            " [  0.           7.00333333  -0.29333333 -19.56166667]\n",
            " [  0.          -0.19        10.02        70.615     ]]\n",
            "\n",
            "[[  3.          -0.1         -0.2          7.85      ]\n",
            " [  0.           7.00333333  -0.29333333 -19.56166667]\n",
            " [  0.           0.          10.01204188  70.08429319]]\n",
            "\n"
          ],
          "name": "stdout"
        }
      ]
    },
    {
      "cell_type": "code",
      "metadata": {
        "id": "ii6DjZZXRood",
        "outputId": "4ec70f23-3da5-4ed6-bb41-9153271bb103",
        "colab": {
          "base_uri": "https://localhost:8080/",
          "height": 36
        }
      },
      "source": [
        "x = [0 for _ in range(R)]\n",
        "x[R - 1] = M[R - 1][C - 1] / M[R - 1][R - 1]\n",
        "print(x)"
      ],
      "execution_count": 6,
      "outputs": [
        {
          "output_type": "stream",
          "text": [
            "[0, 0, 7.000000000000002]\n"
          ],
          "name": "stdout"
        }
      ]
    },
    {
      "cell_type": "code",
      "metadata": {
        "id": "qQJ-7NLJTyL1",
        "outputId": "9b4a12b9-86d9-4719-f1fa-e3d782e9c9be",
        "colab": {
          "base_uri": "https://localhost:8080/",
          "height": 36
        }
      },
      "source": [
        "for i in range(R - 2, -1, -1):\n",
        "  s = 0\n",
        "  for j in range(i + 1, R):\n",
        "    s += x[j] * M[i][j]\n",
        "  x[i] = (M[i][C - 1] - s) / M[i][i]\n",
        "\n",
        "print(x)"
      ],
      "execution_count": 7,
      "outputs": [
        {
          "output_type": "stream",
          "text": [
            "[3.0, -2.5, 7.000000000000002]\n"
          ],
          "name": "stdout"
        }
      ]
    },
    {
      "cell_type": "code",
      "metadata": {
        "id": "ynq0098tUjSS",
        "outputId": "66c939f3-b044-4f0d-da8c-c4f2f74b47c8",
        "colab": {
          "base_uri": "https://localhost:8080/",
          "height": 74
        }
      },
      "source": [
        "for i in range(len(x)):\n",
        "  print(f\"x_{i}: {x[i]}\")"
      ],
      "execution_count": 8,
      "outputs": [
        {
          "output_type": "stream",
          "text": [
            "x_0: 3.0\n",
            "x_1: -2.5\n",
            "x_2: 7.000000000000002\n"
          ],
          "name": "stdout"
        }
      ]
    },
    {
      "cell_type": "code",
      "metadata": {
        "id": "EI09Zc7CWRr2"
      },
      "source": [
        ""
      ],
      "execution_count": 8,
      "outputs": []
    }
  ]
}