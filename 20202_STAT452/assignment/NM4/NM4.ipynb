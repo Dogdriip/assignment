{
 "cells": [
  {
   "cell_type": "markdown",
   "metadata": {
    "colab_type": "text",
    "id": "IALC-AgtvVFp"
   },
   "source": [
    "# Numerical Analysis Assignment #4\n",
    "\n",
    "2018112749 전현승\n"
   ]
  },
  {
   "cell_type": "markdown",
   "metadata": {
    "colab_type": "text",
    "id": "oKREboA7va4H"
   },
   "source": [
    "## 1. "
   ]
  },
  {
   "cell_type": "code",
   "execution_count": 1,
   "metadata": {
    "colab": {},
    "colab_type": "code",
    "id": "Xupam2ahwvZA"
   },
   "outputs": [],
   "source": [
    "import random\n",
    "import numpy as np\n",
    "import math"
   ]
  },
  {
   "cell_type": "code",
   "execution_count": 2,
   "metadata": {
    "colab": {},
    "colab_type": "code",
    "id": "Vxhr3Ok6qauQ"
   },
   "outputs": [],
   "source": [
    "m = 3\n",
    "b = 2"
   ]
  },
  {
   "cell_type": "code",
   "execution_count": 3,
   "metadata": {
    "colab": {
     "base_uri": "https://localhost:8080/",
     "height": 71
    },
    "colab_type": "code",
    "id": "z__-gYbAvjas",
    "outputId": "08780157-48b9-496d-cef3-2b9ce85105b7"
   },
   "outputs": [
    {
     "name": "stdout",
     "output_type": "stream",
     "text": [
      "[6, 3, -9, 33, -14, 31, -79, -20, 93, 54, -53, -54, 47, 53, -11, -85, -69, -43, 96, -83, -67, -52, 10, 75, 84, 82, -30, -2, -13, -84, -23, 66, 72, -95, -45, 38, -48, -49, -28, 64, 24, 17, 62, -8, 29, -18, -16, -12, -92, 58, 43, -39, -63, 39, -29, 27, 57, -22, 22, 30, 70, 4, -6, 68, -34, -68, -66, -27, 25, 73, -80, 76, 60, 63, -42, -93, -75, 44, 94, -1, -58, 56, 81, -40, 9, -98, -26, -61, 50, 48, -36, 80, 91, -10, -88, -62, 15, -19, -60, 32]\n",
      "100\n"
     ]
    }
   ],
   "source": [
    "x = random.sample(range(-100, 101), 100)\n",
    "print(x)\n",
    "print(len(x))"
   ]
  },
  {
   "cell_type": "code",
   "execution_count": 4,
   "metadata": {
    "colab": {
     "base_uri": "https://localhost:8080/",
     "height": 71
    },
    "colab_type": "code",
    "id": "X52yvCUuw5Ku",
    "outputId": "fd326286-b2fe-4c2c-9059-2a3ee52b781a"
   },
   "outputs": [
    {
     "name": "stdout",
     "output_type": "stream",
     "text": [
      "[17.722704571067972, 8.752359412555053, -25.574353212069163, 101.31434477249144, -39.784179862959554, 93.26221038785762, -236.72797552828183, -59.70330234290258, 281.9237340273431, 168.03878175631192, -157.235808773737, -158.3680148514864, 143.55199825470035, 161.28764600328503, -32.44646141548491, -254.168198102123, -204.2924615115175, -122.10542288119143, 289.4827063488513, -246.06555266325125, -196.26537833099488, -152.01153791061222, 36.346316546769664, 227.8922851442501, 252.57092621663796, 248.97956497440614, -86.69874531247036, -6.690386301731776, -36.99055217626922, -252.73969623172815, -67.8895107356638, 202.21880191458868, 217.00472614700442, -282.143182310107, -132.7750045962067, 114.30518572831595, -139.0718978197831, -145.8717289171963, -82.02886945347309, 196.58837149391718, 72.19063196566927, 53.83627658308423, 189.08078932034795, -22.50725274978041, 89.44162521672081, -54.17663416486939, -46.76493431034462, -38.81892282724724, -275.121971028747, 177.1406617302655, 133.31716520970292, -116.97468758402144, -187.22363552209728, 121.29230518311006, -84.58958906653635, 82.60487045608143, 174.33971246979846, -60.18757782700735, 68.4878929674638, 93.5521101839695, 214.65138846030507, 14.572464457033973, -20.52472836058129, 206.6065956625696, -100.88687317964347, -204.70487095091403, -192.61964262179507, -78.66713778272039, 75.35336337690252, 220.55135045564504, -239.19781013281968, 230.51748350701587, 182.5202338403906, 191.18463988647005, -120.8390362687734, -279.1516526744044, -223.62315534374062, 135.37862119645655, 285.52939935161385, 0.1759348190935759, -171.7894978519905, 168.30278070584754, 246.88911342766698, -120.70439077771172, 25.898090646071932, -288.3543116743124, -77.37002984209859, -181.75930620671653, 151.67041279679478, 149.34814619629464, -105.71121475775925, 244.62862612459213, 273.9149139152115, -28.18714438062632, -260.6141397925942, -185.8374044600943, 47.3421815749872, -54.19819550320765, -180.04256421400905, 101.4428212846561]\n",
      "100\n"
     ]
    }
   ],
   "source": [
    "y = []\n",
    "for i in range(0, 100):\n",
    "  y.append(m * x[i] + b + np.random.normal(0, 2))\n",
    "\n",
    "print(y)\n",
    "print(len(y))"
   ]
  },
  {
   "cell_type": "markdown",
   "metadata": {
    "colab_type": "text",
    "id": "0U-ZlwgDyAQR"
   },
   "source": [
    "## 2. Total least square fit"
   ]
  },
  {
   "cell_type": "code",
   "execution_count": 5,
   "metadata": {
    "colab": {
     "base_uri": "https://localhost:8080/",
     "height": 34
    },
    "colab_type": "code",
    "id": "FrUum3yfxvJv",
    "outputId": "1dad6e38-0273-4859-ad90-b512251fd55d"
   },
   "outputs": [
    {
     "name": "stdout",
     "output_type": "stream",
     "text": [
      "Estimated line equation: y=3.005696640094814x+2.174992622186176\n"
     ]
    }
   ],
   "source": [
    "x_bar = np.average(x)\n",
    "y_bar = np.average(y)\n",
    "\n",
    "m_estimate_numerator = 0\n",
    "m_estimate_denominator = 0\n",
    "\n",
    "for i in range(0, 100):\n",
    "  m_estimate_numerator += (x[i] - x_bar) * (y[i] - y_bar)\n",
    "  m_estimate_denominator += (x[i] - x_bar) ** 2\n",
    "\n",
    "m_estimate = m_estimate_numerator / m_estimate_denominator\n",
    "b_estimate = y_bar - m_estimate * x_bar\n",
    "\n",
    "print(f\"Estimated line equation: y={m_estimate}x+{b_estimate}\")"
   ]
  },
  {
   "cell_type": "code",
   "execution_count": 6,
   "metadata": {
    "colab": {
     "base_uri": "https://localhost:8080/",
     "height": 34
    },
    "colab_type": "code",
    "id": "RQ8szfSVSsYw",
    "outputId": "bb5c13c7-ece6-41b3-c590-ec395f14f80f"
   },
   "outputs": [
    {
     "name": "stdout",
     "output_type": "stream",
     "text": [
      "MSE: 3.579020939954454\n"
     ]
    }
   ],
   "source": [
    "MSE = 0\n",
    "for i in range(0, 100):\n",
    "  MSE += (y[i] - (m_estimate * x[i] + b_estimate)) ** 2\n",
    "MSE /= 100\n",
    "\n",
    "print(f\"MSE: {MSE}\")"
   ]
  },
  {
   "cell_type": "markdown",
   "metadata": {
    "colab_type": "text",
    "id": "2hvswE1oVKWP"
   },
   "source": [
    "## 3. RANSAC"
   ]
  },
  {
   "cell_type": "code",
   "execution_count": 7,
   "metadata": {
    "colab": {},
    "colab_type": "code",
    "id": "eaVF4KIlU2Zt"
   },
   "outputs": [],
   "source": [
    "iteration = 200\n",
    "dist_t = 2"
   ]
  },
  {
   "cell_type": "code",
   "execution_count": 8,
   "metadata": {
    "colab": {
     "base_uri": "https://localhost:8080/",
     "height": 207
    },
    "colab_type": "code",
    "id": "mSrScO8tXjyL",
    "outputId": "8f7d6be4-94c6-4f7d-8f1a-ce615e9961a5"
   },
   "outputs": [
    {
     "name": "stdout",
     "output_type": "stream",
     "text": [
      "renewed: 0 < 12\n",
      "res_m: 0, res_b: 0\n",
      "renewed: 12 < 96\n",
      "res_m: 2.629701044014568, res_b: -30.64360936088471\n",
      "renewed: 96 < 100\n",
      "res_m: 3.0330895849686, res_b: 0.4189783645654117\n"
     ]
    }
   ],
   "source": [
    "res_m = 0\n",
    "res_b = 0\n",
    "res_points_x = []\n",
    "res_points_y = []\n",
    "\n",
    "for i in range(0, iteration):\n",
    "  # Randomly select minimal subset of points\n",
    "  idx1 = 0\n",
    "  idx2 = 0\n",
    "  while idx1 == idx2:\n",
    "    idx1, idx2 = random.sample(range(0, 100), 2)\n",
    "  x1, y1, x2, y2 = x[idx1], y[idx1], x[idx2], y[idx2]\n",
    "  # print(x1, y1, x2, y2)\n",
    "\n",
    "  # Hypothesize a model\n",
    "  # ax+by+c=0\n",
    "  # converted to by=-ax-c later\n",
    "  a = (y1 - y2) / (x2 - x1)\n",
    "  b = 1\n",
    "  c = (x1 * (y2 - y1)) / (x2 - x1) - y1\n",
    "  \n",
    "  # Compute error function\n",
    "  points_x = []\n",
    "  points_y = []\n",
    "  for j in range(0, 100):\n",
    "    # (x[j], y[j])\n",
    "    dist = abs(a*x[j] + b*y[j] + c) / math.sqrt(a**2 + b**2)\n",
    "    # print(dist)\n",
    "    if dist < dist_t:\n",
    "      points_x.append(x[j])\n",
    "      points_y.append(y[j])\n",
    "\n",
    "  if len(res_points_x) < len(points_x):\n",
    "    print(f\"renewed: {len(res_points_x)} < {len(points_x)}\")\n",
    "    print(f\"res_m: {res_m}, res_b: {res_b}\")\n",
    "    res_points_x = points_x[:]\n",
    "    res_points_y = points_y[:]\n",
    "    res_m = -a\n",
    "    res_b = -c\n"
   ]
  },
  {
   "cell_type": "code",
   "execution_count": 9,
   "metadata": {
    "colab": {
     "base_uri": "https://localhost:8080/",
     "height": 51
    },
    "colab_type": "code",
    "id": "K4kBLTlZcLv5",
    "outputId": "67dc1f07-c69e-4abb-f485-508db31c6a31"
   },
   "outputs": [
    {
     "name": "stdout",
     "output_type": "stream",
     "text": [
      "Estimated line equation: y=3.0010886565227746x+2.8224889707250327\n",
      "MSE: 4.065322724300733\n"
     ]
    }
   ],
   "source": [
    "print(f\"Estimated line equation: y={res_m}x+{res_b}\")\n",
    "\n",
    "MSE = 0\n",
    "for i in range(0, 100):\n",
    "  MSE += (y[i] - (res_m * x[i] + res_b)) ** 2\n",
    "MSE /= 100\n",
    "\n",
    "print(f\"MSE: {MSE}\")"
   ]
  },
  {
   "cell_type": "markdown",
   "metadata": {
    "colab_type": "text",
    "id": "9gChlA3oiSrI"
   },
   "source": [
    "## 4. Compare two parameter estimation methods.\n",
    "\n",
    "- Total least square fit 방법으로는 MSE가 4.581266008332804 정도, RANSAC 방법으로는 MSE가 4.814118890356541 정도로 도출되었다. 결과만 보면 Total least square fit 방법이 더 정확한 결과가 도출되었지만, 두 방법을 두고 여러 번 테스트해본다면 차이를 더 정확히 파악할 수 있을 것이다."
   ]
  }
 ],
 "metadata": {
  "colab": {
   "collapsed_sections": [],
   "name": "2018112749_NM4.ipynb",
   "provenance": []
  },
  "kernelspec": {
   "display_name": "Python 3",
   "language": "python",
   "name": "python3"
  },
  "language_info": {
   "codemirror_mode": {
    "name": "ipython",
    "version": 3
   },
   "file_extension": ".py",
   "mimetype": "text/x-python",
   "name": "python",
   "nbconvert_exporter": "python",
   "pygments_lexer": "ipython3",
   "version": "3.8.5"
  }
 },
 "nbformat": 4,
 "nbformat_minor": 1
}
