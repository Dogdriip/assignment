{
 "metadata": {
  "language_info": {
   "codemirror_mode": {
    "name": "ipython",
    "version": 3
   },
   "file_extension": ".py",
   "mimetype": "text/x-python",
   "name": "python",
   "nbconvert_exporter": "python",
   "pygments_lexer": "ipython3",
   "version": "3.8.5-final"
  },
  "orig_nbformat": 2,
  "kernelspec": {
   "name": "Python 3.8.5 64-bit ('base': conda)",
   "display_name": "Python 3.8.5 64-bit ('base': conda)",
   "metadata": {
    "interpreter": {
     "hash": "88d2dde29136757e20a5c1c440a069f2485a5eeefe0a3f65617326783153673b"
    }
   }
  }
 },
 "nbformat": 4,
 "nbformat_minor": 2,
 "cells": [
  {
   "cell_type": "code",
   "execution_count": 1,
   "metadata": {},
   "outputs": [],
   "source": [
    "import math"
   ]
  },
  {
   "cell_type": "code",
   "execution_count": 2,
   "metadata": {},
   "outputs": [],
   "source": [
    "f1 = lambda x, y: -x**2 + x - y + 0.75\n",
    "f2 = lambda x, y: x**2 - y - 5*x*y\n",
    "\n",
    "df1x = lambda x: -2*x + 1\n",
    "df2x = lambda x: 2*x - 5\n",
    "df1y = lambda y: -1\n",
    "df2y = lambda y: -6"
   ]
  },
  {
   "cell_type": "code",
   "execution_count": 3,
   "metadata": {},
   "outputs": [
    {
     "output_type": "execute_result",
     "data": {
      "text/plain": "&#39;\\nf1 = lambda x, y: 5 - x**2 - y**2\\nf2 = lambda x, y: x**2 - y - 1\\n\\ndf1x = lambda x: -2*x\\ndf2x = lambda x: 2*x\\ndf1y = lambda y: -2*y\\ndf2y = lambda y: -1\\n&#39;"
     },
     "metadata": {},
     "execution_count": 3
    }
   ],
   "source": [
    "\"\"\"\n",
    "f1 = lambda x, y: 5 - x**2 - y**2\n",
    "f2 = lambda x, y: x**2 - y - 1\n",
    "\n",
    "df1x = lambda x: -2*x\n",
    "df2x = lambda x: 2*x\n",
    "df1y = lambda y: -2*y\n",
    "df2y = lambda y: -1\n",
    "\"\"\""
   ]
  },
  {
   "cell_type": "code",
   "execution_count": 4,
   "metadata": {},
   "outputs": [],
   "source": [
    "x = 1.2\n",
    "y = 1.2"
   ]
  },
  {
   "cell_type": "code",
   "execution_count": 5,
   "metadata": {
    "tags": []
   },
   "outputs": [
    {
     "output_type": "stream",
     "name": "stdout",
     "text": "1.686206896551724 -0.17068965517241375\n1.220473194748359 0.6978262566445593\n1.5762065367901485 -0.03167429918962439\n1.2576884784891285 0.5273619230286816\n1.507875306431878 0.046780815560903244\n"
    }
   ],
   "source": [
    "for i in range(5):\n",
    "    f1i = f1(x, y)\n",
    "    f2i = f2(x, y)\n",
    "    df1x_ = df1x(x)\n",
    "    df2x_ = df2x(x)\n",
    "    df1y_ = df1y(y)\n",
    "    df2y_ = df2y(y)\n",
    "\n",
    "    det = df1x_ * df2y_ - df2x_ * df1y_\n",
    "\n",
    "    x = x - (f1i*df2y_ - f2i*df1y_) / det\n",
    "    y = y - (f2i*df1x_ - f1i*df2x_) / det\n",
    "\n",
    "    print(x, y)\n"
   ]
  },
  {
   "cell_type": "code",
   "execution_count": null,
   "metadata": {},
   "outputs": [],
   "source": []
  }
 ]
}