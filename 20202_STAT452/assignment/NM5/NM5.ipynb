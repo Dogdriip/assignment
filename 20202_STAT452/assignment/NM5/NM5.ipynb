{
  "nbformat": 4,
  "nbformat_minor": 0,
  "metadata": {
    "colab": {
      "name": "2018112749_NM5.ipynb",
      "provenance": [],
      "collapsed_sections": []
    },
    "kernelspec": {
      "name": "python3",
      "display_name": "Python 3"
    }
  },
  "cells": [
    {
      "cell_type": "markdown",
      "metadata": {
        "id": "CiJdLU8f5uFL",
        "colab_type": "text"
      },
      "source": [
        "# Numerical Analysis Assignment #5\n",
        "\n",
        "2018112749 전현승\n"
      ]
    },
    {
      "cell_type": "markdown",
      "metadata": {
        "id": "Sibrbe0k51ym",
        "colab_type": "text"
      },
      "source": [
        "## 1. Gradient Descent"
      ]
    },
    {
      "cell_type": "code",
      "metadata": {
        "id": "g1vTe8-T1oMh",
        "colab_type": "code",
        "colab": {}
      },
      "source": [
        "import numpy as np"
      ],
      "execution_count": 2,
      "outputs": []
    },
    {
      "cell_type": "code",
      "metadata": {
        "id": "ZLak0Dr_kSr_",
        "colab_type": "code",
        "colab": {
          "base_uri": "https://localhost:8080/",
          "height": 359
        },
        "outputId": "fe0f5487-bb2a-43e8-c9f2-9ee0941aa773"
      },
      "source": [
        "x = np.array([[2, 4, 6, 8], [0, 4, 2, 3], [1, 1, 1, 1]]).T\n",
        "y = np.array([[81, 93, 91, 97]]).T\n",
        "p = np.array([[0, 0, 0]]).T\n",
        "J = -x.T\n",
        "\n",
        "print(x)\n",
        "print(x.shape)\n",
        "print(y)\n",
        "print(y.shape)\n",
        "print(p)\n",
        "print(p.shape)\n",
        "print(J)\n",
        "print(J.shape)"
      ],
      "execution_count": 3,
      "outputs": [
        {
          "output_type": "stream",
          "text": [
            "[[2 0 1]\n",
            " [4 4 1]\n",
            " [6 2 1]\n",
            " [8 3 1]]\n",
            "(4, 3)\n",
            "[[81]\n",
            " [93]\n",
            " [91]\n",
            " [97]]\n",
            "(4, 1)\n",
            "[[0]\n",
            " [0]\n",
            " [0]]\n",
            "(3, 1)\n",
            "[[-2 -4 -6 -8]\n",
            " [ 0 -4 -2 -3]\n",
            " [-1 -1 -1 -1]]\n",
            "(3, 4)\n"
          ],
          "name": "stdout"
        }
      ]
    },
    {
      "cell_type": "code",
      "metadata": {
        "id": "nMee2iuAm3KT",
        "colab_type": "code",
        "colab": {
          "base_uri": "https://localhost:8080/",
          "height": 36
        },
        "outputId": "7ff57b89-7351-437d-cf62-9d721a54e5bf"
      },
      "source": [
        "lr = 0.01\n",
        "iter = 1000\n",
        "\n",
        "for i in range(iter):\n",
        "  pred = np.matmul(x, p)\n",
        "  error = (y - pred)\n",
        "  p = p - lr * np.matmul(J, error)\n",
        "\n",
        "error = y - np.matmul(x, p)\n",
        "mse = np.matmul(error.T, error) / 4\n",
        "\n",
        "print(mse)"
      ],
      "execution_count": 4,
      "outputs": [
        {
          "output_type": "stream",
          "text": [
            "[[0.07418457]]\n"
          ],
          "name": "stdout"
        }
      ]
    },
    {
      "cell_type": "markdown",
      "metadata": {
        "id": "onsyhjOnrmhz",
        "colab_type": "text"
      },
      "source": [
        "## 2. Newton-Raphson"
      ]
    },
    {
      "cell_type": "code",
      "metadata": {
        "id": "KqrSfGHKnER1",
        "colab_type": "code",
        "colab": {
          "base_uri": "https://localhost:8080/",
          "height": 435
        },
        "outputId": "180cd42c-5679-4802-a229-7717b9eb45b6"
      },
      "source": [
        "x = np.array([[2, 4, 6, 8], [0, 4, 2, 3], [1, 1, 1, 1]]).T\n",
        "y = np.array([[81, 93, 91, 97]]).T\n",
        "p = np.array([[0, 0, 0]]).T\n",
        "J = -x.T\n",
        "invH = np.linalg.inv(np.matmul(J, J.T))\n",
        "\n",
        "print(x)\n",
        "print(x.shape)\n",
        "print(y)\n",
        "print(y.shape)\n",
        "print(p)\n",
        "print(p.shape)\n",
        "print(J)\n",
        "print(J.shape)\n",
        "print(invH)\n",
        "print(invH.shape)"
      ],
      "execution_count": 5,
      "outputs": [
        {
          "output_type": "stream",
          "text": [
            "[[2 0 1]\n",
            " [4 4 1]\n",
            " [6 2 1]\n",
            " [8 3 1]]\n",
            "(4, 3)\n",
            "[[81]\n",
            " [93]\n",
            " [91]\n",
            " [97]]\n",
            "(4, 1)\n",
            "[[0]\n",
            " [0]\n",
            " [0]]\n",
            "(3, 1)\n",
            "[[-2 -4 -6 -8]\n",
            " [ 0 -4 -2 -3]\n",
            " [-1 -1 -1 -1]]\n",
            "(3, 4)\n",
            "[[ 0.06944444 -0.05555556 -0.22222222]\n",
            " [-0.05555556  0.15873016 -0.07936508]\n",
            " [-0.22222222 -0.07936508  1.53968254]]\n",
            "(3, 3)\n"
          ],
          "name": "stdout"
        }
      ]
    },
    {
      "cell_type": "code",
      "metadata": {
        "id": "LRGYRJgFnk4H",
        "colab_type": "code",
        "colab": {
          "base_uri": "https://localhost:8080/",
          "height": 36
        },
        "outputId": "9d738d45-4930-45ed-9516-4a52981127d9"
      },
      "source": [
        "lr = 0.01\n",
        "iter = 1000\n",
        "\n",
        "for i in range(iter):\n",
        "  pred = np.matmul(x, p)\n",
        "  error = (y - pred)\n",
        "  p = p - lr * np.matmul(np.matmul(invH, J), error)\n",
        "\n",
        "error = y - np.matmul(x, p)\n",
        "mse = np.matmul(error.T, error) / 4\n",
        "\n",
        "print(mse)"
      ],
      "execution_count": 6,
      "outputs": [
        {
          "output_type": "stream",
          "text": [
            "[[0.0714439]]\n"
          ],
          "name": "stdout"
        }
      ]
    },
    {
      "cell_type": "markdown",
      "metadata": {
        "id": "UbU-trb_tbgz",
        "colab_type": "text"
      },
      "source": [
        "## 3. Compare estimated parameters of two different methods.\n",
        "\n",
        "1번 Gradient Descent 방법으로는 MSE가 0.07418457, 2번 Newton-Raphson 방법으로는 MSE가 0.0714439로 측정되었다. 결과만 보면 Gradient Descent 방법이 더 정확하지만, 여러 번 측정을 통해 결과를 비교해본다면 더 정밀한 비교가 가능할 것이다."
      ]
    }
  ]
}