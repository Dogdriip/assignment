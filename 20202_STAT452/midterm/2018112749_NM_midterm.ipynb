{
  "nbformat": 4,
  "nbformat_minor": 0,
  "metadata": {
    "colab": {
      "name": "2018112749_NM_midterm.ipynb",
      "provenance": [],
      "collapsed_sections": []
    },
    "kernelspec": {
      "name": "python3",
      "display_name": "Python 3"
    }
  },
  "cells": [
    {
      "cell_type": "markdown",
      "metadata": {
        "id": "srqFbjXkBYCJ"
      },
      "source": [
        "# Numerical Methods – Programming Midterm Project\n",
        "\n",
        "2018112749 전현승"
      ]
    },
    {
      "cell_type": "code",
      "metadata": {
        "id": "DjCCdGBYsinq"
      },
      "source": [
        "import numpy as np\n",
        "from math import *\n",
        "import matplotlib.pyplot as plt"
      ],
      "execution_count": 1,
      "outputs": []
    },
    {
      "cell_type": "markdown",
      "metadata": {
        "id": "emnUkSfVBc-X"
      },
      "source": [
        "# Q1\n",
        "\n",
        "Gauss-seidel Method"
      ]
    },
    {
      "cell_type": "code",
      "metadata": {
        "id": "UGb3hnRWWyCn"
      },
      "source": [
        "A = np.array([[4, -1, 1], [-1, 4, -2], [1, -2, 4]]).astype('float64')\n",
        "b = np.array([12, -1, 5]).astype('float64')\n",
        "\n",
        "ground_truth = np.array([3, 1, 1]).astype('float64')"
      ],
      "execution_count": 2,
      "outputs": []
    },
    {
      "cell_type": "code",
      "metadata": {
        "id": "n7KXR6bydMY2"
      },
      "source": [
        "f1 = lambda x, y, z: (-y + z + 12) / 4\n",
        "f2 = lambda x, y, z: (x + 2*z - 1) / 4\n",
        "f3 = lambda x, y, z: (-x + 2*y + 5) / 4\n",
        "\n",
        "x0 = 0\n",
        "y0 = 0\n",
        "z0 = 0"
      ],
      "execution_count": 3,
      "outputs": []
    },
    {
      "cell_type": "code",
      "metadata": {
        "id": "gTEi72RzcT0R",
        "colab": {
          "base_uri": "https://localhost:8080/"
        },
        "outputId": "ec7c8376-2b46-45d3-93ff-1b3746960a52"
      },
      "source": [
        "for i in range(9):\n",
        "    x1 = f1(x0, y0, z0)\n",
        "    y1 = f2(x1, y0, z0)\n",
        "    z1 = f3(x1, y1, z0)\n",
        "    print(f\"iteration: {i}, x1: {x1:.4}, y1: {y1:.4}, z1: {z1:.4}\")\n",
        "    \n",
        "    x0 = x1\n",
        "    y0 = y1\n",
        "    z0 = z1"
      ],
      "execution_count": 4,
      "outputs": [
        {
          "output_type": "stream",
          "text": [
            "iteration: 0, x1: 3.0, y1: 0.5, z1: 0.75\n",
            "iteration: 1, x1: 3.062, y1: 0.8906, z1: 0.9297\n",
            "iteration: 2, x1: 3.01, y1: 0.9673, z1: 0.9812\n",
            "iteration: 3, x1: 3.003, y1: 0.9915, z1: 0.9949\n",
            "iteration: 4, x1: 3.001, y1: 0.9976, z1: 0.9986\n",
            "iteration: 5, x1: 3.0, y1: 0.9994, z1: 0.9996\n",
            "iteration: 6, x1: 3.0, y1: 0.9998, z1: 0.9999\n",
            "iteration: 7, x1: 3.0, y1: 1.0, z1: 1.0\n",
            "iteration: 8, x1: 3.0, y1: 1.0, z1: 1.0\n"
          ],
          "name": "stdout"
        }
      ]
    },
    {
      "cell_type": "markdown",
      "metadata": {
        "id": "NAO0OAble3qn"
      },
      "source": [
        "x1, y1, z1이 Ground Truth와 일치하게 구해졌으므로, True relative percentage error는 별도의 계산 과정 없이도 자명하게 0% 입니다."
      ]
    },
    {
      "cell_type": "markdown",
      "metadata": {
        "id": "0uAi2NStskeB"
      },
      "source": [
        "# Q2\n",
        "\n",
        "Bisection Method"
      ]
    },
    {
      "cell_type": "code",
      "metadata": {
        "id": "F6NCZdfEslE7"
      },
      "source": [
        "def f(x):\n",
        "    return x**3 -(10 * x**2) + 5"
      ],
      "execution_count": 5,
      "outputs": []
    },
    {
      "cell_type": "code",
      "metadata": {
        "id": "_vtx85xbv3Y1"
      },
      "source": [
        "x_l = 0.0\n",
        "x_u = 1.0\n",
        "\n",
        "x = [(x_l + x_u) / 2]\n",
        "approx_rel_error = []"
      ],
      "execution_count": 6,
      "outputs": []
    },
    {
      "cell_type": "code",
      "metadata": {
        "id": "clLfaudoxbEr",
        "colab": {
          "base_uri": "https://localhost:8080/"
        },
        "outputId": "c803e723-d526-492c-e3b0-12b010ff1a5a"
      },
      "source": [
        "for i in range(6):\n",
        "    approx_err = 0 if i == 0 else abs(x[-1] - x[-2]) / x[-1] * 100\n",
        "\n",
        "    x_r = x[-1]\n",
        "    print(f\"iteration {i}: \")\n",
        "    print(f\"x_l: {x_l:.6f}, x_u: {x_u:.6f}, x_r: {x_r:.6f}, f(x_r): {f(x_r):.6f}, approx_err: {approx_err:.6f}\")\n",
        "\n",
        "    if f(x_l)*f(x_u) > 0:\n",
        "        x_u = x_r\n",
        "    else:\n",
        "        x_l = x_r\n",
        "    x_r = (x_l + x_u) / 2\n",
        "    x.append(x_r)\n",
        "    approx_rel_error.append(approx_err)"
      ],
      "execution_count": 7,
      "outputs": [
        {
          "output_type": "stream",
          "text": [
            "iteration 0: \n",
            "x_l: 0.000000, x_u: 1.000000, x_r: 0.500000, f(x_r): 2.625000, approx_err: 0.000000\n",
            "iteration 1: \n",
            "x_l: 0.500000, x_u: 1.000000, x_r: 0.750000, f(x_r): -0.203125, approx_err: 33.333333\n",
            "iteration 2: \n",
            "x_l: 0.750000, x_u: 1.000000, x_r: 0.875000, f(x_r): -1.986328, approx_err: 14.285714\n",
            "iteration 3: \n",
            "x_l: 0.750000, x_u: 0.875000, x_r: 0.812500, f(x_r): -1.065186, approx_err: 7.692308\n",
            "iteration 4: \n",
            "x_l: 0.750000, x_u: 0.812500, x_r: 0.781250, f(x_r): -0.626678, approx_err: 4.000000\n",
            "iteration 5: \n",
            "x_l: 0.750000, x_u: 0.781250, x_r: 0.765625, f(x_r): -0.413021, approx_err: 2.040816\n"
          ],
          "name": "stdout"
        }
      ]
    },
    {
      "cell_type": "markdown",
      "metadata": {
        "id": "DxVJML_h0OVR"
      },
      "source": [
        "# Q3\n",
        "\n",
        "Newton-Raphson Method"
      ]
    },
    {
      "cell_type": "code",
      "metadata": {
        "id": "gBdSFub10Nwo"
      },
      "source": [
        "def f(x):\n",
        "    return x**2 - 2\n",
        "\n",
        "def df(x):\n",
        "    return 2 * x"
      ],
      "execution_count": 8,
      "outputs": []
    },
    {
      "cell_type": "code",
      "metadata": {
        "id": "MFZinkUSRD-G"
      },
      "source": [
        "# 실제 근은 sqrt(2)라 가정\n",
        "actual_root = sqrt(2)"
      ],
      "execution_count": 9,
      "outputs": []
    },
    {
      "cell_type": "code",
      "metadata": {
        "id": "Qdleo6wjRQ9C",
        "colab": {
          "base_uri": "https://localhost:8080/"
        },
        "outputId": "cd3530b9-4d1c-437e-9d6a-823fabd959f6"
      },
      "source": [
        " x = [1.0]\n",
        "true_rel_error = []\n",
        "\n",
        "for i in range(0, 4):\n",
        "    true_err = abs(actual_root - x[-1]) / actual_root * 100\n",
        "\n",
        "    print(f\"i: {i}, x_i: {x[-1]:.6f}, f(x_i): {f(x[-1]):.6f}, true_err: {true_err:.6f}\")\n",
        "\n",
        "    x.append(x[-1] - f(x[-1]) / df(x[-1]))\n",
        "    true_rel_error.append(true_err)"
      ],
      "execution_count": 10,
      "outputs": [
        {
          "output_type": "stream",
          "text": [
            "i: 0, x_i: 1.000000, f(x_i): -1.000000, true_err: 29.289322\n",
            "i: 1, x_i: 1.500000, f(x_i): 0.250000, true_err: 6.066017\n",
            "i: 2, x_i: 1.416667, f(x_i): 0.006944, true_err: 0.173461\n",
            "i: 3, x_i: 1.414216, f(x_i): 0.000006, true_err: 0.000150\n"
          ],
          "name": "stdout"
        }
      ]
    },
    {
      "cell_type": "markdown",
      "metadata": {
        "id": "95mnpYEjVeXg"
      },
      "source": [
        "# Q4\n",
        "\n",
        "cubic spline"
      ]
    },
    {
      "cell_type": "code",
      "metadata": {
        "id": "iY5z3LQ5wfRD"
      },
      "source": [
        "def cubic_spline(x_field, x, y):\n",
        "    sz = len(x)\n",
        "\n",
        "    diff_x = np.diff(x)\n",
        "    diff_y = np.diff(y)\n",
        "\n",
        "    Li = np.zeros(sz)\n",
        "    Li_1 = np.zeros(sz - 1)\n",
        "    z = np.zeros(sz)\n",
        "\n",
        "    Li[0] = sqrt(2 * diff_x[0])\n",
        "    Li_1[0] = 0.0\n",
        "    B0 = 0.0 \n",
        "    z[0] = B0 / Li[0]\n",
        "\n",
        "    for i in range(1, sz-1):\n",
        "        Li_1[i] = diff_x[i-1] / Li[i-1]\n",
        "        Li[i] = sqrt(2*(diff_x[i-1] + diff_x[i]) - Li_1[i-1] * Li_1[i-1])\n",
        "        Bi = 6*(diff_y[i]/diff_x[i] - diff_y[i-1]/diff_x[i-1])\n",
        "        z[i] = (Bi - Li_1[i-1]*z[i-1])/Li[i]\n",
        "\n",
        "    i = sz - 1\n",
        "    Li_1[i-1] = diff_x[-1] / Li[i-1]\n",
        "    Li[i] = sqrt(2*diff_x[-1] - Li_1[i-1] * Li_1[i-1])\n",
        "    Bi = 0.0 \n",
        "    z[i] = (Bi - Li_1[i-1]*z[i-1])/Li[i]\n",
        "\n",
        "    # L^T * x = y\n",
        "    i = sz - 1\n",
        "    z[i] = z[i] / Li[i]\n",
        "    for i in range(sz-2, -1, -1):\n",
        "        z[i] = (z[i] - Li_1[i-1]*z[i+1])/Li[i]\n",
        "\n",
        "    index = x.searchsorted(x_field)\n",
        "\n",
        "    xi1, xi0 = x[index], x[index-1]\n",
        "    yi1, yi0 = y[index], y[index-1]\n",
        "    zi1, zi0 = z[index], z[index-1]\n",
        "    hi1 = xi1 - xi0\n",
        "\n",
        "    # calculate cubic\n",
        "    f0 = zi0/(6*hi1)*(xi1-x_field)**3 + zi1/(6*hi1)*(x_field-xi0)**3 + (yi1/hi1 - zi1*hi1/6)*(x_field-xi0) + (yi0/hi1 - zi0*hi1/6)*(xi1-x_field)\n",
        "    return f0"
      ],
      "execution_count": 11,
      "outputs": []
    },
    {
      "cell_type": "code",
      "metadata": {
        "id": "Gq8gEKnCwfJz",
        "colab": {
          "base_uri": "https://localhost:8080/",
          "height": 265
        },
        "outputId": "3faae48f-9b5d-46c1-de8a-6e8009376211"
      },
      "source": [
        "x = np.array([1, 2, 3, 4, 5]).astype('float64')\n",
        "y = np.array([0, 1, 0, 1, 0]).astype('float64')\n",
        "\n",
        "x_new = np.linspace(1, 5, 121)\n",
        "res = cubic_spline(x_new, x, y)\n",
        "\n",
        "plt.plot(x_new, res)\n",
        "plt.show()"
      ],
      "execution_count": 12,
      "outputs": [
        {
          "output_type": "display_data",
          "data": {
            "image/png": "[encoded data removed]",
            "text/plain": [
              "<Figure size 432x288 with 1 Axes>"
            ]
          },
          "metadata": {
            "tags": [],
            "needs_background": "light"
          }
        }
      ]
    },
    {
      "cell_type": "code",
      "metadata": {
        "id": "xUPFu-ZK1Kni",
        "colab": {
          "base_uri": "https://localhost:8080/"
        },
        "outputId": "8117d3c8-5000-4066-e6ec-35e626b55f50"
      },
      "source": [
        "print(x_new[15])\n",
        "print(res[15])"
      ],
      "execution_count": 13,
      "outputs": [
        {
          "output_type": "stream",
          "text": [
            "1.5\n",
            "0.6190346803118543\n"
          ],
          "name": "stdout"
        }
      ]
    },
    {
      "cell_type": "code",
      "metadata": {
        "id": "hNPf7REMq90-"
      },
      "source": [
        ""
      ],
      "execution_count": null,
      "outputs": []
    }
  ]
}